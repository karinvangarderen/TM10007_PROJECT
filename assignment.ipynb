{
  "nbformat": 4,
  "nbformat_minor": 0,
  "metadata": {
    "colab": {
      "name": "assignment.ipynb",
      "provenance": [],
      "collapsed_sections": []
    },
    "kernelspec": {
      "display_name": "Python 3",
      "language": "python",
      "name": "python3"
    },
    "language_info": {
      "codemirror_mode": {
        "name": "ipython",
        "version": 3
      },
      "file_extension": ".py",
      "mimetype": "text/x-python",
      "name": "python",
      "nbconvert_exporter": "python",
      "pygments_lexer": "ipython3",
      "version": "3.7.4"
    }
  },
  "cells": [
    {
      "cell_type": "markdown",
      "metadata": {
        "colab_type": "text",
        "id": "7SXpaKwwGe5x"
      },
      "source": [
        "# TM10007 Assignment ADNI Dataset\n",
        "Bram Gerritse 4462599  \n",
        "Saskia Bijl 4439457  \n",
        "Karan Ramsodit  \n",
        "Enzo Kerkhof 44488555"
      ]
    },
    {
      "cell_type": "code",
      "metadata": {
        "colab_type": "code",
        "id": "CiDn2Sk-VWqE",
        "outputId": "c337e0d4-3620-4b56-ce25-096ca4a6e241",
        "colab": {
          "base_uri": "https://localhost:8080/",
          "height": 34
        }
      },
      "source": [
        "# Run this to use from colab environment to install git repo\n",
        "!pip install -q --upgrade git+https://github.com/Enzo-Kerkhof/TM10007_PROJECT.git@random_forest\n",
        "\n",
        "# Use the @ to determine what branch to install. Don't use to install master."
      ],
      "execution_count": 17,
      "outputs": [
        {
          "output_type": "stream",
          "text": [
            "  Building wheel for brats (setup.py) ... \u001b[?25l\u001b[?25hdone\n"
          ],
          "name": "stdout"
        }
      ]
    },
    {
      "cell_type": "code",
      "metadata": {
        "colab_type": "code",
        "id": "gWpMLRN2tcyM",
        "colab": {}
      },
      "source": [
        "# Import used libraries\n",
        "import numpy as np\n",
        "\n",
        "from sklearn import preprocessing\n",
        "from sklearn import model_selection\n",
        "from sklearn import decomposition\n",
        "from sklearn import feature_selection\n",
        "from sklearn.linear_model import Lasso\n",
        "from sklearn.ensemble import RandomForestClassifier"
      ],
      "execution_count": 0,
      "outputs": []
    },
    {
      "cell_type": "markdown",
      "metadata": {
        "colab_type": "text",
        "id": "_VumKdpfpKGc"
      },
      "source": [
        "## Data loading and cleaning\n",
        "\n",
        "Below are functions to load the dataset of your choice. After that, it is all up to you to create and evaluate a classification method. Beware, there may be missing values in these datasets. Good luck!"
      ]
    },
    {
      "cell_type": "code",
      "metadata": {
        "colab_type": "code",
        "id": "-NE_fTbKGe5z",
        "outputId": "436f2a92-bc30-47df-fce5-cca57ec42483",
        "colab": {
          "base_uri": "https://localhost:8080/",
          "height": 84
        }
      },
      "source": [
        "# Data loading functions. Uncomment the one you want to use\n",
        "from adni.load_data import load_data\n",
        "\n",
        "data = load_data()\n",
        "print('The dataset ABNI contains the following\\n')\n",
        "print(f'The number of samples/patients: {len(data.index)}')\n",
        "print(f'The number of columns/features: {len(data.columns)}')"
      ],
      "execution_count": 19,
      "outputs": [
        {
          "output_type": "stream",
          "text": [
            "The dataset ABNI contains the following\n",
            "\n",
            "The number of samples/patients: 855\n",
            "The number of columns/features: 268\n"
          ],
          "name": "stdout"
        }
      ]
    },
    {
      "cell_type": "markdown",
      "metadata": {
        "id": "V3SYPh4rAibQ",
        "colab_type": "text"
      },
      "source": [
        "## Data preprocessing"
      ]
    },
    {
      "cell_type": "code",
      "metadata": {
        "id": "NEkOuwv8AlwW",
        "colab_type": "code",
        "colab": {}
      },
      "source": [
        "# Drop labels from dataframe\n",
        "X = data.drop(['label'],axis=1)\n",
        "\n",
        "# Binerize labels AD = 1, CN = 0\n",
        "Y = preprocessing.label_binarize(data['label'], ['CN', 'AD'])\n",
        "Y = [i[0] for i in Y]\n",
        "\n",
        "# Split data\n",
        "X_train, X_test, y_train, y_test = model_selection.train_test_split(X, Y, test_size=0.8)\n",
        "y_train = np.array(y_train)"
      ],
      "execution_count": 0,
      "outputs": []
    },
    {
      "cell_type": "code",
      "metadata": {
        "id": "1OKNDWlmAudL",
        "colab_type": "code",
        "colab": {}
      },
      "source": [
        "# Scale the data to be normal\n",
        "scaler = preprocessing.MinMaxScaler()\n",
        "scaler.fit(X_train)\n",
        "X_train_scaled = scaler.transform(X_train)\n",
        "X_test_scaled = scaler.transform(X_test)"
      ],
      "execution_count": 0,
      "outputs": []
    },
    {
      "cell_type": "code",
      "metadata": {
        "id": "3u-1zomrAxdD",
        "colab_type": "code",
        "colab": {}
      },
      "source": [
        "# Perform a PCA\n",
        "pca = decomposition.PCA(n_components=100)\n",
        "pca.fit(X_train_scaled)\n",
        "X_train_pca = pca.transform(X_train_scaled)\n",
        "X_test_pca = pca.transform(X_test_scaled)"
      ],
      "execution_count": 0,
      "outputs": []
    },
    {
      "cell_type": "code",
      "metadata": {
        "id": "muepMe-dA0Ac",
        "colab_type": "code",
        "colab": {
          "base_uri": "https://localhost:8080/",
          "height": 87
        },
        "outputId": "38411382-01f7-4915-aee4-922fef2b3393"
      },
      "source": [
        "# Now first use the selectfrom model module. Select all features with a weight above the median.\n",
        "selector = feature_selection.SelectFromModel(estimator=Lasso(alpha=10**(-10)), threshold='median')\n",
        "selector.fit(X_train_scaled, y_train)\n",
        "n_original = X_train_scaled.shape[1]\n",
        "X_train_selected = selector.transform(X_train_scaled)\n",
        "X_test_selected = selector.transform(X_test_scaled)\n",
        "n_selected = X_train_selected.shape[1]\n",
        "print(f\"Selected {n_selected} from {n_original} features.\")\n",
        "\n",
        "\n",
        "X_train = X_train_selected\n",
        "X_test = X_test_selected"
      ],
      "execution_count": 23,
      "outputs": [
        {
          "output_type": "stream",
          "text": [
            "Selected 134 from 267 features.\n"
          ],
          "name": "stdout"
        },
        {
          "output_type": "stream",
          "text": [
            "/usr/local/lib/python3.6/dist-packages/sklearn/linear_model/_coordinate_descent.py:476: ConvergenceWarning: Objective did not converge. You might want to increase the number of iterations. Duality gap: 0.024741115842609532, tolerance: 0.004183625730994154\n",
            "  positive)\n"
          ],
          "name": "stderr"
        }
      ]
    },
    {
      "cell_type": "markdown",
      "metadata": {
        "id": "cyPKA6LcA8hx",
        "colab_type": "text"
      },
      "source": [
        "## Hyperparameters"
      ]
    },
    {
      "cell_type": "code",
      "metadata": {
        "id": "Y7YqIZxUA20O",
        "colab_type": "code",
        "colab": {
          "base_uri": "https://localhost:8080/",
          "height": 1000
        },
        "outputId": "2baf7c44-951d-4a08-e361-ccd0ac347942"
      },
      "source": [
        "for X, Y in zip(X_train, y_train):\n",
        "  clf = RandomForestClassifier(n_estimators=50, bootstrap=True, class_weight={0: 1, 1: 1})\n",
        "  clf.fit(X_train, y_train)\n",
        "  y_pred = clf.predict(X_test)\n",
        "  print(f\"Misclassified: %d / %d\" % ((y_test != y_pred).sum(), X_test.shape[0]))"
      ],
      "execution_count": 37,
      "outputs": [
        {
          "output_type": "stream",
          "text": [
            "Misclassified: 161 / 684\n",
            "Misclassified: 157 / 684\n",
            "Misclassified: 145 / 684\n",
            "Misclassified: 154 / 684\n",
            "Misclassified: 154 / 684\n",
            "Misclassified: 147 / 684\n",
            "Misclassified: 154 / 684\n",
            "Misclassified: 161 / 684\n",
            "Misclassified: 156 / 684\n",
            "Misclassified: 154 / 684\n",
            "Misclassified: 162 / 684\n",
            "Misclassified: 146 / 684\n",
            "Misclassified: 162 / 684\n",
            "Misclassified: 157 / 684\n",
            "Misclassified: 150 / 684\n",
            "Misclassified: 148 / 684\n",
            "Misclassified: 157 / 684\n",
            "Misclassified: 150 / 684\n",
            "Misclassified: 162 / 684\n",
            "Misclassified: 152 / 684\n",
            "Misclassified: 162 / 684\n",
            "Misclassified: 157 / 684\n",
            "Misclassified: 166 / 684\n",
            "Misclassified: 144 / 684\n",
            "Misclassified: 154 / 684\n",
            "Misclassified: 167 / 684\n",
            "Misclassified: 153 / 684\n",
            "Misclassified: 162 / 684\n",
            "Misclassified: 153 / 684\n",
            "Misclassified: 152 / 684\n",
            "Misclassified: 151 / 684\n",
            "Misclassified: 159 / 684\n",
            "Misclassified: 162 / 684\n",
            "Misclassified: 142 / 684\n",
            "Misclassified: 158 / 684\n",
            "Misclassified: 152 / 684\n",
            "Misclassified: 150 / 684\n",
            "Misclassified: 164 / 684\n",
            "Misclassified: 152 / 684\n",
            "Misclassified: 155 / 684\n",
            "Misclassified: 148 / 684\n",
            "Misclassified: 159 / 684\n",
            "Misclassified: 163 / 684\n",
            "Misclassified: 156 / 684\n",
            "Misclassified: 153 / 684\n",
            "Misclassified: 152 / 684\n",
            "Misclassified: 161 / 684\n",
            "Misclassified: 144 / 684\n",
            "Misclassified: 155 / 684\n",
            "Misclassified: 163 / 684\n",
            "Misclassified: 155 / 684\n",
            "Misclassified: 162 / 684\n",
            "Misclassified: 161 / 684\n",
            "Misclassified: 155 / 684\n",
            "Misclassified: 168 / 684\n",
            "Misclassified: 153 / 684\n",
            "Misclassified: 158 / 684\n",
            "Misclassified: 158 / 684\n",
            "Misclassified: 151 / 684\n",
            "Misclassified: 152 / 684\n",
            "Misclassified: 163 / 684\n",
            "Misclassified: 146 / 684\n",
            "Misclassified: 151 / 684\n",
            "Misclassified: 153 / 684\n",
            "Misclassified: 156 / 684\n",
            "Misclassified: 157 / 684\n",
            "Misclassified: 157 / 684\n",
            "Misclassified: 152 / 684\n",
            "Misclassified: 149 / 684\n",
            "Misclassified: 161 / 684\n",
            "Misclassified: 162 / 684\n",
            "Misclassified: 166 / 684\n",
            "Misclassified: 161 / 684\n",
            "Misclassified: 151 / 684\n",
            "Misclassified: 156 / 684\n",
            "Misclassified: 154 / 684\n",
            "Misclassified: 149 / 684\n",
            "Misclassified: 149 / 684\n",
            "Misclassified: 160 / 684\n",
            "Misclassified: 153 / 684\n",
            "Misclassified: 155 / 684\n",
            "Misclassified: 161 / 684\n",
            "Misclassified: 149 / 684\n",
            "Misclassified: 170 / 684\n",
            "Misclassified: 148 / 684\n",
            "Misclassified: 151 / 684\n",
            "Misclassified: 154 / 684\n",
            "Misclassified: 158 / 684\n",
            "Misclassified: 153 / 684\n",
            "Misclassified: 155 / 684\n",
            "Misclassified: 157 / 684\n",
            "Misclassified: 149 / 684\n",
            "Misclassified: 153 / 684\n",
            "Misclassified: 141 / 684\n",
            "Misclassified: 164 / 684\n",
            "Misclassified: 149 / 684\n",
            "Misclassified: 164 / 684\n",
            "Misclassified: 150 / 684\n",
            "Misclassified: 161 / 684\n",
            "Misclassified: 159 / 684\n",
            "Misclassified: 155 / 684\n",
            "Misclassified: 148 / 684\n",
            "Misclassified: 156 / 684\n",
            "Misclassified: 153 / 684\n",
            "Misclassified: 140 / 684\n",
            "Misclassified: 154 / 684\n",
            "Misclassified: 157 / 684\n",
            "Misclassified: 160 / 684\n",
            "Misclassified: 155 / 684\n",
            "Misclassified: 147 / 684\n",
            "Misclassified: 148 / 684\n",
            "Misclassified: 165 / 684\n",
            "Misclassified: 162 / 684\n",
            "Misclassified: 160 / 684\n",
            "Misclassified: 162 / 684\n",
            "Misclassified: 159 / 684\n",
            "Misclassified: 149 / 684\n",
            "Misclassified: 153 / 684\n",
            "Misclassified: 151 / 684\n",
            "Misclassified: 158 / 684\n",
            "Misclassified: 149 / 684\n",
            "Misclassified: 162 / 684\n",
            "Misclassified: 163 / 684\n",
            "Misclassified: 160 / 684\n",
            "Misclassified: 154 / 684\n",
            "Misclassified: 155 / 684\n",
            "Misclassified: 164 / 684\n",
            "Misclassified: 154 / 684\n",
            "Misclassified: 153 / 684\n",
            "Misclassified: 152 / 684\n",
            "Misclassified: 153 / 684\n",
            "Misclassified: 156 / 684\n",
            "Misclassified: 157 / 684\n",
            "Misclassified: 154 / 684\n",
            "Misclassified: 160 / 684\n",
            "Misclassified: 168 / 684\n",
            "Misclassified: 151 / 684\n",
            "Misclassified: 151 / 684\n",
            "Misclassified: 155 / 684\n",
            "Misclassified: 163 / 684\n",
            "Misclassified: 157 / 684\n",
            "Misclassified: 167 / 684\n",
            "Misclassified: 156 / 684\n",
            "Misclassified: 147 / 684\n",
            "Misclassified: 157 / 684\n",
            "Misclassified: 149 / 684\n",
            "Misclassified: 150 / 684\n",
            "Misclassified: 160 / 684\n",
            "Misclassified: 159 / 684\n",
            "Misclassified: 153 / 684\n",
            "Misclassified: 160 / 684\n",
            "Misclassified: 146 / 684\n",
            "Misclassified: 150 / 684\n",
            "Misclassified: 167 / 684\n",
            "Misclassified: 159 / 684\n",
            "Misclassified: 156 / 684\n",
            "Misclassified: 154 / 684\n",
            "Misclassified: 151 / 684\n",
            "Misclassified: 150 / 684\n",
            "Misclassified: 148 / 684\n",
            "Misclassified: 154 / 684\n",
            "Misclassified: 148 / 684\n",
            "Misclassified: 151 / 684\n",
            "Misclassified: 163 / 684\n",
            "Misclassified: 170 / 684\n",
            "Misclassified: 165 / 684\n",
            "Misclassified: 162 / 684\n",
            "Misclassified: 158 / 684\n",
            "Misclassified: 171 / 684\n",
            "Misclassified: 152 / 684\n",
            "Misclassified: 160 / 684\n"
          ],
          "name": "stdout"
        }
      ]
    }
  ]
}